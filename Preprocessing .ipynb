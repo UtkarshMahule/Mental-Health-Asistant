{
 "cells": [
  {
   "cell_type": "code",
   "execution_count": 2,
   "id": "b274ac00",
   "metadata": {},
   "outputs": [
    {
     "name": "stdout",
     "output_type": "stream",
     "text": [
      "Collecting pyarrow\n",
      "  Downloading pyarrow-19.0.1-cp310-cp310-win_amd64.whl (25.3 MB)\n",
      "     -------------------------------------- 25.3/25.3 MB 333.3 kB/s eta 0:00:00\n",
      "Installing collected packages: pyarrow\n",
      "Successfully installed pyarrow-19.0.1\n",
      "Note: you may need to restart the kernel to use updated packages.\n"
     ]
    }
   ],
   "source": [
    "#pip install pyarrow"
   ]
  },
  {
   "cell_type": "code",
   "execution_count": 3,
   "id": "804b3d64",
   "metadata": {},
   "outputs": [
    {
     "name": "stdout",
     "output_type": "stream",
     "text": [
      "Collecting fastparquet\n",
      "  Downloading fastparquet-2024.11.0-cp310-cp310-win_amd64.whl (670 kB)\n",
      "     ------------------------------------ 670.7/670.7 kB 549.0 kB/s eta 0:00:00\n",
      "Requirement already satisfied: packaging in c:\\users\\utkar\\anaconda3\\lib\\site-packages (from fastparquet) (22.0)\n",
      "Requirement already satisfied: pandas>=1.5.0 in c:\\users\\utkar\\anaconda3\\lib\\site-packages (from fastparquet) (1.5.3)\n",
      "Requirement already satisfied: numpy in c:\\users\\utkar\\anaconda3\\lib\\site-packages (from fastparquet) (1.23.5)\n",
      "Requirement already satisfied: fsspec in c:\\users\\utkar\\anaconda3\\lib\\site-packages (from fastparquet) (2022.11.0)\n",
      "Collecting cramjam>=2.3\n",
      "  Downloading cramjam-2.9.1-cp310-cp310-win_amd64.whl (2.1 MB)\n",
      "     ---------------------------------------- 2.1/2.1 MB 367.1 kB/s eta 0:00:00\n",
      "Requirement already satisfied: pytz>=2020.1 in c:\\users\\utkar\\anaconda3\\lib\\site-packages (from pandas>=1.5.0->fastparquet) (2022.7)\n",
      "Requirement already satisfied: python-dateutil>=2.8.1 in c:\\users\\utkar\\anaconda3\\lib\\site-packages (from pandas>=1.5.0->fastparquet) (2.8.2)\n",
      "Requirement already satisfied: six>=1.5 in c:\\users\\utkar\\anaconda3\\lib\\site-packages (from python-dateutil>=2.8.1->pandas>=1.5.0->fastparquet) (1.16.0)\n",
      "Installing collected packages: cramjam, fastparquet\n",
      "Successfully installed cramjam-2.9.1 fastparquet-2024.11.0\n",
      "Note: you may need to restart the kernel to use updated packages.\n"
     ]
    }
   ],
   "source": [
    "#pip install fastparquet"
   ]
  },
  {
   "cell_type": "code",
   "execution_count": 2,
   "id": "3a36373b",
   "metadata": {},
   "outputs": [
    {
     "name": "stdout",
     "output_type": "stream",
     "text": [
      "Collecting datasets\n",
      "  Downloading datasets-3.5.0-py3-none-any.whl (491 kB)\n",
      "     ------------------------------------ 491.2/491.2 kB 879.2 kB/s eta 0:00:00\n",
      "Collecting xxhash\n",
      "  Downloading xxhash-3.5.0-cp310-cp310-win_amd64.whl (30 kB)\n",
      "Requirement already satisfied: filelock in c:\\users\\utkar\\anaconda3\\lib\\site-packages (from datasets) (3.9.0)\n",
      "Requirement already satisfied: dill<0.3.9,>=0.3.0 in c:\\users\\utkar\\anaconda3\\lib\\site-packages (from datasets) (0.3.8)\n",
      "Collecting aiohttp\n",
      "  Downloading aiohttp-3.11.16-cp310-cp310-win_amd64.whl (442 kB)\n",
      "     -------------------------------------- 442.2/442.2 kB 1.8 MB/s eta 0:00:00\n",
      "Requirement already satisfied: multiprocess<0.70.17 in c:\\users\\utkar\\anaconda3\\lib\\site-packages (from datasets) (0.70.16)\n",
      "Requirement already satisfied: pyarrow>=15.0.0 in c:\\users\\utkar\\anaconda3\\lib\\site-packages (from datasets) (19.0.1)\n",
      "Collecting requests>=2.32.2\n",
      "  Downloading requests-2.32.3-py3-none-any.whl (64 kB)\n",
      "     ---------------------------------------- 64.9/64.9 kB 3.4 MB/s eta 0:00:00\n",
      "Requirement already satisfied: pyyaml>=5.1 in c:\\users\\utkar\\anaconda3\\lib\\site-packages (from datasets) (6.0)\n",
      "Collecting huggingface-hub>=0.24.0\n",
      "  Downloading huggingface_hub-0.30.1-py3-none-any.whl (481 kB)\n",
      "     -------------------------------------- 481.2/481.2 kB 1.9 MB/s eta 0:00:00\n",
      "Collecting tqdm>=4.66.3\n",
      "  Downloading tqdm-4.67.1-py3-none-any.whl (78 kB)\n",
      "     ---------------------------------------- 78.5/78.5 kB 2.2 MB/s eta 0:00:00\n",
      "Requirement already satisfied: packaging in c:\\users\\utkar\\anaconda3\\lib\\site-packages (from datasets) (22.0)\n",
      "Collecting fsspec[http]<=2024.12.0,>=2023.1.0\n",
      "  Downloading fsspec-2024.12.0-py3-none-any.whl (183 kB)\n",
      "     -------------------------------------- 183.9/183.9 kB 2.2 MB/s eta 0:00:00\n",
      "Requirement already satisfied: pandas in c:\\users\\utkar\\anaconda3\\lib\\site-packages (from datasets) (1.5.3)\n",
      "Requirement already satisfied: numpy>=1.17 in c:\\users\\utkar\\anaconda3\\lib\\site-packages (from datasets) (1.23.5)\n",
      "Collecting frozenlist>=1.1.1\n",
      "  Downloading frozenlist-1.5.0-cp310-cp310-win_amd64.whl (51 kB)\n",
      "     ---------------------------------------- 51.6/51.6 kB 1.3 MB/s eta 0:00:00\n",
      "Collecting propcache>=0.2.0\n",
      "  Downloading propcache-0.3.1-cp310-cp310-win_amd64.whl (45 kB)\n",
      "     ---------------------------------------- 45.2/45.2 kB 2.2 MB/s eta 0:00:00\n",
      "Requirement already satisfied: attrs>=17.3.0 in c:\\users\\utkar\\anaconda3\\lib\\site-packages (from aiohttp->datasets) (22.1.0)\n",
      "Collecting multidict<7.0,>=4.5\n",
      "  Downloading multidict-6.3.1-cp310-cp310-win_amd64.whl (38 kB)\n",
      "Collecting async-timeout<6.0,>=4.0\n",
      "  Downloading async_timeout-5.0.1-py3-none-any.whl (6.2 kB)\n",
      "Collecting aiohappyeyeballs>=2.3.0\n",
      "  Downloading aiohappyeyeballs-2.6.1-py3-none-any.whl (15 kB)\n",
      "Collecting yarl<2.0,>=1.17.0\n",
      "  Downloading yarl-1.18.3-cp310-cp310-win_amd64.whl (90 kB)\n",
      "     ---------------------------------------- 90.5/90.5 kB 1.7 MB/s eta 0:00:00\n",
      "Collecting aiosignal>=1.1.2\n",
      "  Downloading aiosignal-1.3.2-py2.py3-none-any.whl (7.6 kB)\n",
      "Requirement already satisfied: typing-extensions>=3.7.4.3 in c:\\users\\utkar\\anaconda3\\lib\\site-packages (from huggingface-hub>=0.24.0->datasets) (4.4.0)\n",
      "Requirement already satisfied: charset-normalizer<4,>=2 in c:\\users\\utkar\\anaconda3\\lib\\site-packages (from requests>=2.32.2->datasets) (2.0.4)\n",
      "Requirement already satisfied: certifi>=2017.4.17 in c:\\users\\utkar\\anaconda3\\lib\\site-packages (from requests>=2.32.2->datasets) (2022.12.7)\n",
      "Requirement already satisfied: urllib3<3,>=1.21.1 in c:\\users\\utkar\\anaconda3\\lib\\site-packages (from requests>=2.32.2->datasets) (1.26.14)\n",
      "Requirement already satisfied: idna<4,>=2.5 in c:\\users\\utkar\\anaconda3\\lib\\site-packages (from requests>=2.32.2->datasets) (3.4)\n",
      "Requirement already satisfied: colorama in c:\\users\\utkar\\anaconda3\\lib\\site-packages (from tqdm>=4.66.3->datasets) (0.4.6)\n",
      "Requirement already satisfied: python-dateutil>=2.8.1 in c:\\users\\utkar\\anaconda3\\lib\\site-packages (from pandas->datasets) (2.8.2)\n",
      "Requirement already satisfied: pytz>=2020.1 in c:\\users\\utkar\\anaconda3\\lib\\site-packages (from pandas->datasets) (2022.7)\n",
      "Requirement already satisfied: six>=1.5 in c:\\users\\utkar\\anaconda3\\lib\\site-packages (from python-dateutil>=2.8.1->pandas->datasets) (1.16.0)\n",
      "Installing collected packages: xxhash, tqdm, requests, propcache, multidict, fsspec, frozenlist, async-timeout, aiohappyeyeballs, yarl, huggingface-hub, aiosignal, aiohttp, datasets\n",
      "  Attempting uninstall: tqdm\n",
      "    Found existing installation: tqdm 4.64.1\n",
      "    Uninstalling tqdm-4.64.1:\n",
      "      Successfully uninstalled tqdm-4.64.1\n",
      "  Attempting uninstall: requests\n",
      "    Found existing installation: requests 2.28.1\n",
      "    Uninstalling requests-2.28.1:\n",
      "      Successfully uninstalled requests-2.28.1\n",
      "  Attempting uninstall: fsspec\n",
      "    Found existing installation: fsspec 2022.11.0\n",
      "    Uninstalling fsspec-2022.11.0:\n",
      "      Successfully uninstalled fsspec-2022.11.0\n",
      "  Attempting uninstall: huggingface-hub\n",
      "    Found existing installation: huggingface-hub 0.10.1\n",
      "    Uninstalling huggingface-hub-0.10.1:\n",
      "      Successfully uninstalled huggingface-hub-0.10.1\n",
      "Successfully installed aiohappyeyeballs-2.6.1 aiohttp-3.11.16 aiosignal-1.3.2 async-timeout-5.0.1 datasets-3.5.0 frozenlist-1.5.0 fsspec-2024.12.0 huggingface-hub-0.30.1 multidict-6.3.1 propcache-0.3.1 requests-2.32.3 tqdm-4.67.1 xxhash-3.5.0 yarl-1.18.3\n",
      "Note: you may need to restart the kernel to use updated packages.\n"
     ]
    },
    {
     "name": "stderr",
     "output_type": "stream",
     "text": [
      "ERROR: pip's dependency resolver does not currently take into account all the packages that are installed. This behaviour is the source of the following dependency conflicts.\n",
      "conda-repo-cli 1.0.27 requires clyent==1.2.1, but you have clyent 1.2.2 which is incompatible.\n",
      "conda-repo-cli 1.0.27 requires nbformat==5.4.0, but you have nbformat 5.7.0 which is incompatible.\n",
      "conda-repo-cli 1.0.27 requires requests==2.28.1, but you have requests 2.32.3 which is incompatible.\n"
     ]
    }
   ],
   "source": [
    "#pip install datasets"
   ]
  },
  {
   "cell_type": "code",
   "execution_count": 4,
   "id": "b199fc84",
   "metadata": {},
   "outputs": [
    {
     "name": "stdout",
     "output_type": "stream",
     "text": [
      "Note: you may need to restart the kernel to use updated packages.Requirement already satisfied: fsspec in c:\\users\\utkar\\anaconda3\\lib\\site-packages (2024.12.0)\n",
      "Collecting fsspec\n",
      "  Downloading fsspec-2025.3.2-py3-none-any.whl (194 kB)\n",
      "     ------------------------------------ 194.4/194.4 kB 200.0 kB/s eta 0:00:00\n",
      "Installing collected packages: fsspec\n",
      "  Attempting uninstall: fsspec\n",
      "    Found existing installation: fsspec 2024.12.0\n",
      "    Uninstalling fsspec-2024.12.0:\n",
      "      Successfully uninstalled fsspec-2024.12.0\n",
      "Successfully installed fsspec-2025.3.2\n",
      "\n"
     ]
    },
    {
     "name": "stderr",
     "output_type": "stream",
     "text": [
      "ERROR: pip's dependency resolver does not currently take into account all the packages that are installed. This behaviour is the source of the following dependency conflicts.\n",
      "datasets 3.5.0 requires fsspec[http]<=2024.12.0,>=2023.1.0, but you have fsspec 2025.3.2 which is incompatible.\n"
     ]
    }
   ],
   "source": [
    "pip install --upgrade fsspec"
   ]
  },
  {
   "cell_type": "code",
   "execution_count": 6,
   "id": "39796e66",
   "metadata": {},
   "outputs": [
    {
     "name": "stdout",
     "output_type": "stream",
     "text": [
      "Requirement already satisfied: datasets in c:\\users\\utkar\\anaconda3\\lib\\site-packages (3.5.0)\n",
      "Collecting s3fs\n",
      "  Downloading s3fs-2025.3.2-py3-none-any.whl (30 kB)\n",
      "Requirement already satisfied: pyarrow>=15.0.0 in c:\\users\\utkar\\anaconda3\\lib\\site-packages (from datasets) (19.0.1)\n",
      "Requirement already satisfied: filelock in c:\\users\\utkar\\anaconda3\\lib\\site-packages (from datasets) (3.9.0)\n",
      "Requirement already satisfied: tqdm>=4.66.3 in c:\\users\\utkar\\anaconda3\\lib\\site-packages (from datasets) (4.67.1)\n",
      "Requirement already satisfied: aiohttp in c:\\users\\utkar\\anaconda3\\lib\\site-packages (from datasets) (3.11.16)\n",
      "Collecting fsspec[http]<=2024.12.0,>=2023.1.0\n",
      "  Using cached fsspec-2024.12.0-py3-none-any.whl (183 kB)\n",
      "Requirement already satisfied: huggingface-hub>=0.24.0 in c:\\users\\utkar\\anaconda3\\lib\\site-packages (from datasets) (0.30.1)\n",
      "Requirement already satisfied: pyyaml>=5.1 in c:\\users\\utkar\\anaconda3\\lib\\site-packages (from datasets) (6.0)\n",
      "Requirement already satisfied: requests>=2.32.2 in c:\\users\\utkar\\anaconda3\\lib\\site-packages (from datasets) (2.32.3)\n",
      "Requirement already satisfied: multiprocess<0.70.17 in c:\\users\\utkar\\anaconda3\\lib\\site-packages (from datasets) (0.70.16)\n",
      "Requirement already satisfied: packaging in c:\\users\\utkar\\anaconda3\\lib\\site-packages (from datasets) (22.0)\n",
      "Requirement already satisfied: xxhash in c:\\users\\utkar\\anaconda3\\lib\\site-packages (from datasets) (3.5.0)\n",
      "Requirement already satisfied: pandas in c:\\users\\utkar\\anaconda3\\lib\\site-packages (from datasets) (1.5.3)\n",
      "Requirement already satisfied: dill<0.3.9,>=0.3.0 in c:\\users\\utkar\\anaconda3\\lib\\site-packages (from datasets) (0.3.8)\n",
      "Requirement already satisfied: numpy>=1.17 in c:\\users\\utkar\\anaconda3\\lib\\site-packages (from datasets) (1.23.5)\n",
      "Collecting aiobotocore<3.0.0,>=2.5.4\n",
      "  Downloading aiobotocore-2.21.1-py3-none-any.whl (78 kB)\n",
      "     -------------------------------------- 78.3/78.3 kB 624.5 kB/s eta 0:00:00\n",
      "Requirement already satisfied: fsspec==2025.3.2.* in c:\\users\\utkar\\anaconda3\\lib\\site-packages (from s3fs) (2025.3.2)\n",
      "Requirement already satisfied: multidict<7.0.0,>=6.0.0 in c:\\users\\utkar\\anaconda3\\lib\\site-packages (from aiobotocore<3.0.0,>=2.5.4->s3fs) (6.3.1)\n",
      "Collecting aioitertools<1.0.0,>=0.5.1\n",
      "  Downloading aioitertools-0.12.0-py3-none-any.whl (24 kB)\n",
      "Requirement already satisfied: jmespath<2.0.0,>=0.7.1 in c:\\users\\utkar\\anaconda3\\lib\\site-packages (from aiobotocore<3.0.0,>=2.5.4->s3fs) (0.10.0)\n",
      "Requirement already satisfied: python-dateutil<3.0.0,>=2.1 in c:\\users\\utkar\\anaconda3\\lib\\site-packages (from aiobotocore<3.0.0,>=2.5.4->s3fs) (2.8.2)\n",
      "Requirement already satisfied: wrapt<2.0.0,>=1.10.10 in c:\\users\\utkar\\anaconda3\\lib\\site-packages (from aiobotocore<3.0.0,>=2.5.4->s3fs) (1.14.1)\n",
      "Collecting botocore<1.37.2,>=1.37.0\n",
      "  Downloading botocore-1.37.1-py3-none-any.whl (13.4 MB)\n",
      "     ---------------------------------------- 13.4/13.4 MB 2.2 MB/s eta 0:00:00\n",
      "Requirement already satisfied: yarl<2.0,>=1.17.0 in c:\\users\\utkar\\anaconda3\\lib\\site-packages (from aiohttp->datasets) (1.18.3)\n",
      "Requirement already satisfied: propcache>=0.2.0 in c:\\users\\utkar\\anaconda3\\lib\\site-packages (from aiohttp->datasets) (0.3.1)\n",
      "Requirement already satisfied: frozenlist>=1.1.1 in c:\\users\\utkar\\anaconda3\\lib\\site-packages (from aiohttp->datasets) (1.5.0)\n",
      "Requirement already satisfied: async-timeout<6.0,>=4.0 in c:\\users\\utkar\\anaconda3\\lib\\site-packages (from aiohttp->datasets) (5.0.1)\n",
      "Requirement already satisfied: aiosignal>=1.1.2 in c:\\users\\utkar\\anaconda3\\lib\\site-packages (from aiohttp->datasets) (1.3.2)\n",
      "Requirement already satisfied: attrs>=17.3.0 in c:\\users\\utkar\\anaconda3\\lib\\site-packages (from aiohttp->datasets) (22.1.0)\n",
      "Requirement already satisfied: aiohappyeyeballs>=2.3.0 in c:\\users\\utkar\\anaconda3\\lib\\site-packages (from aiohttp->datasets) (2.6.1)\n",
      "Collecting fsspec[http]<=2024.12.0,>=2023.1.0\n",
      "  Downloading fsspec-2024.10.0-py3-none-any.whl (179 kB)\n",
      "     -------------------------------------- 179.6/179.6 kB 2.7 MB/s eta 0:00:00\n",
      "  Downloading fsspec-2024.9.0-py3-none-any.whl (179 kB)\n",
      "     -------------------------------------- 179.3/179.3 kB 1.8 MB/s eta 0:00:00\n",
      "  Downloading fsspec-2024.6.1-py3-none-any.whl (177 kB)\n",
      "     -------------------------------------- 177.6/177.6 kB 1.3 MB/s eta 0:00:00\n",
      "  Downloading fsspec-2024.6.0-py3-none-any.whl (176 kB)\n",
      "     -------------------------------------- 176.9/176.9 kB 2.1 MB/s eta 0:00:00\n",
      "  Downloading fsspec-2024.5.0-py3-none-any.whl (316 kB)\n",
      "     -------------------------------------- 316.1/316.1 kB 2.4 MB/s eta 0:00:00\n",
      "  Downloading fsspec-2024.3.1-py3-none-any.whl (171 kB)\n",
      "     -------------------------------------- 172.0/172.0 kB 2.1 MB/s eta 0:00:00\n",
      "  Downloading fsspec-2024.3.0-py3-none-any.whl (171 kB)\n",
      "     -------------------------------------- 171.9/171.9 kB 2.6 MB/s eta 0:00:00\n",
      "  Downloading fsspec-2024.2.0-py3-none-any.whl (170 kB)\n",
      "     -------------------------------------- 170.9/170.9 kB 2.6 MB/s eta 0:00:00\n",
      "  Downloading fsspec-2023.12.2-py3-none-any.whl (168 kB)\n",
      "     -------------------------------------- 169.0/169.0 kB 5.1 MB/s eta 0:00:00\n",
      "  Downloading fsspec-2023.12.1-py3-none-any.whl (168 kB)\n",
      "     -------------------------------------- 168.9/168.9 kB 1.1 MB/s eta 0:00:00\n",
      "  Downloading fsspec-2023.12.0-py3-none-any.whl (168 kB)\n",
      "     -------------------------------------- 168.9/168.9 kB 1.4 MB/s eta 0:00:00\n",
      "  Downloading fsspec-2023.10.0-py3-none-any.whl (166 kB)\n",
      "     -------------------------------------- 166.4/166.4 kB 3.4 MB/s eta 0:00:00\n",
      "  Downloading fsspec-2023.9.2-py3-none-any.whl (173 kB)\n",
      "     -------------------------------------- 173.4/173.4 kB 2.1 MB/s eta 0:00:00\n",
      "  Downloading fsspec-2023.9.1-py3-none-any.whl (173 kB)\n",
      "     -------------------------------------- 173.4/173.4 kB 2.1 MB/s eta 0:00:00\n",
      "  Downloading fsspec-2023.9.0-py3-none-any.whl (173 kB)\n",
      "     -------------------------------------- 173.2/173.2 kB 3.5 MB/s eta 0:00:00\n",
      "  Downloading fsspec-2023.6.0-py3-none-any.whl (163 kB)\n",
      "     -------------------------------------- 163.8/163.8 kB 2.0 MB/s eta 0:00:00\n",
      "  Downloading fsspec-2023.5.0-py3-none-any.whl (160 kB)\n",
      "     -------------------------------------- 160.1/160.1 kB 3.2 MB/s eta 0:00:00\n",
      "  Downloading fsspec-2023.4.0-py3-none-any.whl (153 kB)\n",
      "     -------------------------------------- 154.0/154.0 kB 3.1 MB/s eta 0:00:00\n",
      "  Downloading fsspec-2023.3.0-py3-none-any.whl (145 kB)\n",
      "     ------------------------------------ 145.4/145.4 kB 958.6 kB/s eta 0:00:00\n",
      "  Downloading fsspec-2023.1.0-py3-none-any.whl (143 kB)\n",
      "     -------------------------------------- 143.0/143.0 kB 4.3 MB/s eta 0:00:00\n",
      "INFO: pip is looking at multiple versions of dill to determine which version is compatible with other requirements. This could take a while.\n",
      "Collecting dill<0.3.9,>=0.3.0\n",
      "  Using cached dill-0.3.8-py3-none-any.whl (116 kB)\n",
      "INFO: pip is looking at multiple versions of aiohttp to determine which version is compatible with other requirements. This could take a while.\n",
      "Collecting aiohttp\n",
      "  Using cached aiohttp-3.11.16-cp310-cp310-win_amd64.whl (442 kB)\n",
      "INFO: pip is looking at multiple versions of aiobotocore to determine which version is compatible with other requirements. This could take a while.\n",
      "Collecting aiobotocore<3.0.0,>=2.5.4\n",
      "  Downloading aiobotocore-2.21.0-py3-none-any.whl (78 kB)\n",
      "     ---------------------------------------- 78.1/78.1 kB 4.2 MB/s eta 0:00:00\n",
      "INFO: pip is looking at multiple versions of fsspec to determine which version is compatible with other requirements. This could take a while.\n",
      "Collecting fsspec==2025.3.2.*\n",
      "  Using cached fsspec-2025.3.2-py3-none-any.whl (194 kB)\n",
      "INFO: pip is looking at multiple versions of <Python from Requires-Python> to determine which version is compatible with other requirements. This could take a while.\n",
      "INFO: pip is looking at multiple versions of s3fs to determine which version is compatible with other requirements. This could take a while.\n",
      "Collecting s3fs\n",
      "  Downloading s3fs-2025.3.1-py3-none-any.whl (30 kB)\n",
      "  Downloading s3fs-2025.3.0-py3-none-any.whl (30 kB)\n",
      "Collecting fsspec==2025.3.0.*\n",
      "  Downloading fsspec-2025.3.0-py3-none-any.whl (193 kB)\n",
      "     -------------------------------------- 193.6/193.6 kB 4.0 MB/s eta 0:00:00\n",
      "Collecting s3fs\n",
      "  Downloading s3fs-2025.2.0-py3-none-any.whl (30 kB)\n",
      "Collecting fsspec==2025.2.0.*\n",
      "  Downloading fsspec-2025.2.0-py3-none-any.whl (184 kB)\n",
      "     -------------------------------------- 184.5/184.5 kB 2.2 MB/s eta 0:00:00\n",
      "Collecting s3fs\n",
      "  Downloading s3fs-2024.12.0-py3-none-any.whl (30 kB)\n",
      "Requirement already satisfied: typing-extensions>=3.7.4.3 in c:\\users\\utkar\\anaconda3\\lib\\site-packages (from huggingface-hub>=0.24.0->datasets) (4.4.0)\n",
      "Requirement already satisfied: charset-normalizer<4,>=2 in c:\\users\\utkar\\anaconda3\\lib\\site-packages (from requests>=2.32.2->datasets) (2.0.4)\n",
      "Requirement already satisfied: certifi>=2017.4.17 in c:\\users\\utkar\\anaconda3\\lib\\site-packages (from requests>=2.32.2->datasets) (2022.12.7)\n",
      "Requirement already satisfied: urllib3<3,>=1.21.1 in c:\\users\\utkar\\anaconda3\\lib\\site-packages (from requests>=2.32.2->datasets) (1.26.14)\n",
      "Requirement already satisfied: idna<4,>=2.5 in c:\\users\\utkar\\anaconda3\\lib\\site-packages (from requests>=2.32.2->datasets) (3.4)\n",
      "Requirement already satisfied: colorama in c:\\users\\utkar\\anaconda3\\lib\\site-packages (from tqdm>=4.66.3->datasets) (0.4.6)\n",
      "Requirement already satisfied: pytz>=2020.1 in c:\\users\\utkar\\anaconda3\\lib\\site-packages (from pandas->datasets) (2022.7)\n",
      "Requirement already satisfied: six>=1.5 in c:\\users\\utkar\\anaconda3\\lib\\site-packages (from python-dateutil<3.0.0,>=2.1->aiobotocore<3.0.0,>=2.5.4->s3fs) (1.16.0)\n",
      "Installing collected packages: fsspec, aioitertools, botocore, aiobotocore, s3fs\n",
      "  Attempting uninstall: fsspec\n",
      "    Found existing installation: fsspec 2025.3.2\n",
      "    Uninstalling fsspec-2025.3.2:\n",
      "      Successfully uninstalled fsspec-2025.3.2\n",
      "Successfully installed aiobotocore-2.21.1 aioitertools-0.12.0 botocore-1.37.1 fsspec-2024.12.0 s3fs-2024.12.0\n",
      "Note: you may need to restart the kernel to use updated packages.\n"
     ]
    }
   ],
   "source": [
    "#pip install datasets s3fs\n"
   ]
  },
  {
   "cell_type": "code",
   "execution_count": 8,
   "id": "689f42c5",
   "metadata": {},
   "outputs": [
    {
     "name": "stdout",
     "output_type": "stream",
     "text": [
      "Requirement already satisfied: fsspec[http]==2024.12.0 in c:\\users\\utkar\\anaconda3\\lib\\site-packages (2024.12.0)\n",
      "Requirement already satisfied: aiohttp!=4.0.0a0,!=4.0.0a1 in c:\\users\\utkar\\anaconda3\\lib\\site-packages (from fsspec[http]==2024.12.0) (3.11.16)\n",
      "Requirement already satisfied: aiohappyeyeballs>=2.3.0 in c:\\users\\utkar\\anaconda3\\lib\\site-packages (from aiohttp!=4.0.0a0,!=4.0.0a1->fsspec[http]==2024.12.0) (2.6.1)\n",
      "Requirement already satisfied: aiosignal>=1.1.2 in c:\\users\\utkar\\anaconda3\\lib\\site-packages (from aiohttp!=4.0.0a0,!=4.0.0a1->fsspec[http]==2024.12.0) (1.3.2)\n",
      "Requirement already satisfied: async-timeout<6.0,>=4.0 in c:\\users\\utkar\\anaconda3\\lib\\site-packages (from aiohttp!=4.0.0a0,!=4.0.0a1->fsspec[http]==2024.12.0) (5.0.1)\n",
      "Requirement already satisfied: frozenlist>=1.1.1 in c:\\users\\utkar\\anaconda3\\lib\\site-packages (from aiohttp!=4.0.0a0,!=4.0.0a1->fsspec[http]==2024.12.0) (1.5.0)\n",
      "Requirement already satisfied: yarl<2.0,>=1.17.0 in c:\\users\\utkar\\anaconda3\\lib\\site-packages (from aiohttp!=4.0.0a0,!=4.0.0a1->fsspec[http]==2024.12.0) (1.18.3)\n",
      "Requirement already satisfied: multidict<7.0,>=4.5 in c:\\users\\utkar\\anaconda3\\lib\\site-packages (from aiohttp!=4.0.0a0,!=4.0.0a1->fsspec[http]==2024.12.0) (6.3.1)\n",
      "Requirement already satisfied: attrs>=17.3.0 in c:\\users\\utkar\\anaconda3\\lib\\site-packages (from aiohttp!=4.0.0a0,!=4.0.0a1->fsspec[http]==2024.12.0) (22.1.0)\n",
      "Requirement already satisfied: propcache>=0.2.0 in c:\\users\\utkar\\anaconda3\\lib\\site-packages (from aiohttp!=4.0.0a0,!=4.0.0a1->fsspec[http]==2024.12.0) (0.3.1)\n",
      "Requirement already satisfied: typing-extensions>=4.1.0 in c:\\users\\utkar\\anaconda3\\lib\\site-packages (from multidict<7.0,>=4.5->aiohttp!=4.0.0a0,!=4.0.0a1->fsspec[http]==2024.12.0) (4.4.0)\n",
      "Requirement already satisfied: idna>=2.0 in c:\\users\\utkar\\anaconda3\\lib\\site-packages (from yarl<2.0,>=1.17.0->aiohttp!=4.0.0a0,!=4.0.0a1->fsspec[http]==2024.12.0) (3.4)\n",
      "Note: you may need to restart the kernel to use updated packages.\n"
     ]
    }
   ],
   "source": [
    "#pip install fsspec[http]==2024.12.0"
   ]
  },
  {
   "cell_type": "code",
   "execution_count": 1,
   "id": "e6840358",
   "metadata": {},
   "outputs": [],
   "source": [
    "from datasets import load_dataset\n",
    "\n",
    "ds = load_dataset(\"ShenLab/MentalChat16K\")"
   ]
  },
  {
   "cell_type": "code",
   "execution_count": 2,
   "id": "c000be4d",
   "metadata": {},
   "outputs": [
    {
     "data": {
      "text/plain": [
       "DatasetDict({\n",
       "    train: Dataset({\n",
       "        features: ['instruction', 'input', 'output'],\n",
       "        num_rows: 16084\n",
       "    })\n",
       "})"
      ]
     },
     "execution_count": 2,
     "metadata": {},
     "output_type": "execute_result"
    }
   ],
   "source": [
    "ds"
   ]
  },
  {
   "cell_type": "code",
   "execution_count": 3,
   "id": "67cc2e9a",
   "metadata": {},
   "outputs": [
    {
     "data": {
      "text/plain": [
       "DatasetDict({\n",
       "    train: Dataset({\n",
       "        features: ['instruction', 'input', 'output'],\n",
       "        num_rows: 16084\n",
       "    })\n",
       "})"
      ]
     },
     "execution_count": 3,
     "metadata": {},
     "output_type": "execute_result"
    }
   ],
   "source": [
    "ds"
   ]
  },
  {
   "cell_type": "code",
   "execution_count": 4,
   "id": "66899ad3",
   "metadata": {},
   "outputs": [],
   "source": [
    "import pandas as pd"
   ]
  },
  {
   "cell_type": "code",
   "execution_count": 5,
   "id": "b5974dd6",
   "metadata": {},
   "outputs": [],
   "source": [
    "df = pd.DataFrame(ds)"
   ]
  },
  {
   "cell_type": "code",
   "execution_count": 6,
   "id": "51f27d34",
   "metadata": {},
   "outputs": [
    {
     "data": {
      "text/plain": [
       "{'instruction': \"You are a helpful mental health counselling assistant, please answer the mental health questions based on the patient's description. \\nThe assistant gives helpful, comprehensive, and appropriate answers to the user's questions. \",\n",
       " 'input': \"I've been struggling with my mental health for a while now, and I can't seem to find a way to cope with it. I've tried visualization, positive thinking, and even medication, but nothing seems to work. I've been feeling lost and helpless, and I don't know what to do next. My mind is a whirlwind of thoughts and emotions, and I can't seem to make sense of it all. I feel like I'm drowning in a sea of confusion, and I can't seem to find my way out.\",\n",
       " 'output': \"I understand that you've been dealing with a sense of confusion and chaos in your thoughts and emotions for some time now. It's been a challenging journey, and it's commendable that you've tried various approaches like visualization, positive thinking, and medication to manage your symptoms. However, it's clear that these methods haven't been effective for you. It's essential to acknowledge that mental health issues can be complex and multifaceted, and what works for one person might not work for another. Today, we're going to approach this differently. We're going to identify a specific concern related to your mental health that you'd like to work on, and we'll break it down into manageable steps. We'll define the problem as a feeling of being overwhelmed by your thoughts and emotions, and we'll set realistic goals for managing this feeling. We'll explore the root causes of this confusion, such as past traumas, current stressors, and any underlying psychological conditions. We'll also examine your thought patterns and emotional responses to these triggers, and we'll develop strategies to challenge and reframe negative thoughts. This process is called Cognitive Behavioral Therapy (CBT), and it's designed to help you face your challenges more effectively by changing the way you think and feel about them. Let's begin by discussing the specific incidents or concerns that have been contributing to your feelings of confusion and chaos. We can explore these further and come up with strategies to help you manage them.\"}"
      ]
     },
     "execution_count": 6,
     "metadata": {},
     "output_type": "execute_result"
    }
   ],
   "source": [
    "df.iloc[0][\"train\"]"
   ]
  },
  {
   "cell_type": "code",
   "execution_count": 7,
   "id": "dd0674d5",
   "metadata": {},
   "outputs": [],
   "source": [
    "from datasets import load_dataset\n",
    "\n",
    "ds = load_dataset(\"mshojaei77/merged_mental_health_dataset\")"
   ]
  },
  {
   "cell_type": "code",
   "execution_count": 8,
   "id": "edc1ad1f",
   "metadata": {},
   "outputs": [
    {
     "data": {
      "text/plain": [
       "DatasetDict({\n",
       "    train: Dataset({\n",
       "        features: ['Context', 'Response'],\n",
       "        num_rows: 867859\n",
       "    })\n",
       "})"
      ]
     },
     "execution_count": 8,
     "metadata": {},
     "output_type": "execute_result"
    }
   ],
   "source": [
    "ds"
   ]
  },
  {
   "cell_type": "code",
   "execution_count": 9,
   "id": "b76a8166",
   "metadata": {},
   "outputs": [],
   "source": [
    "df2 = pd.DataFrame(ds)"
   ]
  },
  {
   "cell_type": "code",
   "execution_count": 10,
   "id": "38107714",
   "metadata": {},
   "outputs": [
    {
     "data": {
      "text/html": [
       "<div>\n",
       "<style scoped>\n",
       "    .dataframe tbody tr th:only-of-type {\n",
       "        vertical-align: middle;\n",
       "    }\n",
       "\n",
       "    .dataframe tbody tr th {\n",
       "        vertical-align: top;\n",
       "    }\n",
       "\n",
       "    .dataframe thead th {\n",
       "        text-align: right;\n",
       "    }\n",
       "</style>\n",
       "<table border=\"1\" class=\"dataframe\">\n",
       "  <thead>\n",
       "    <tr style=\"text-align: right;\">\n",
       "      <th></th>\n",
       "      <th>train</th>\n",
       "    </tr>\n",
       "  </thead>\n",
       "  <tbody>\n",
       "    <tr>\n",
       "      <th>0</th>\n",
       "      <td>{'Context': 'I'm going through some things wit...</td>\n",
       "    </tr>\n",
       "    <tr>\n",
       "      <th>1</th>\n",
       "      <td>{'Context': 'I'm going through some things wit...</td>\n",
       "    </tr>\n",
       "    <tr>\n",
       "      <th>2</th>\n",
       "      <td>{'Context': 'I'm going through some things wit...</td>\n",
       "    </tr>\n",
       "    <tr>\n",
       "      <th>3</th>\n",
       "      <td>{'Context': 'I'm going through some things wit...</td>\n",
       "    </tr>\n",
       "    <tr>\n",
       "      <th>4</th>\n",
       "      <td>{'Context': 'I'm going through some things wit...</td>\n",
       "    </tr>\n",
       "  </tbody>\n",
       "</table>\n",
       "</div>"
      ],
      "text/plain": [
       "                                               train\n",
       "0  {'Context': 'I'm going through some things wit...\n",
       "1  {'Context': 'I'm going through some things wit...\n",
       "2  {'Context': 'I'm going through some things wit...\n",
       "3  {'Context': 'I'm going through some things wit...\n",
       "4  {'Context': 'I'm going through some things wit..."
      ]
     },
     "execution_count": 10,
     "metadata": {},
     "output_type": "execute_result"
    }
   ],
   "source": [
    "df2.head()"
   ]
  },
  {
   "cell_type": "code",
   "execution_count": 11,
   "id": "c258bd88",
   "metadata": {},
   "outputs": [
    {
     "data": {
      "text/plain": [
       "{'Context': \"I'm going through some things with my feelings and myself. I barely sleep and I do nothing but think about how I'm worthless and how I shouldn't be here.\\n   I've never tried or contemplated suicide. I've always wanted to fix my issues, but I never get around to it.\\n   How can I change my feeling of being worthless to everyone?\",\n",
       " 'Response': \"If everyone thinks you're worthless, then maybe you need to find new people to hang out with.Seriously, the social context in which a person lives is a big influence in self-esteem.Otherwise, you can go round and round trying to understand why you're not worthless, then go back to the same crowd and be knocked down again.There are many inspirational messages you can find in social media. \\xa0Maybe read some of the ones which state that no person is worthless, and that everyone has a good purpose to their life.Also, since our culture is so saturated with the belief that if someone doesn't feel good about themselves that this is somehow terrible.Bad feelings are part of living. \\xa0They are the motivation to remove ourselves from situations and relationships which do us more harm than good.Bad feelings do feel terrible. \\xa0 Your feeling of worthlessness may be good in the sense of motivating you to find out that you are much better than your feelings today.\"}"
      ]
     },
     "execution_count": 11,
     "metadata": {},
     "output_type": "execute_result"
    }
   ],
   "source": [
    "df2.iloc[0][\"train\"]"
   ]
  },
  {
   "cell_type": "code",
   "execution_count": 12,
   "id": "e0357ca4",
   "metadata": {},
   "outputs": [],
   "source": [
    "import pandas as pd\n",
    "\n",
    "df3 = pd.read_csv(\"hf://datasets/tellikoroma/mentalhealth/mh_data.csv\")"
   ]
  },
  {
   "cell_type": "code",
   "execution_count": 13,
   "id": "8f5d2ac2",
   "metadata": {},
   "outputs": [
    {
     "data": {
      "text/html": [
       "<div>\n",
       "<style scoped>\n",
       "    .dataframe tbody tr th:only-of-type {\n",
       "        vertical-align: middle;\n",
       "    }\n",
       "\n",
       "    .dataframe tbody tr th {\n",
       "        vertical-align: top;\n",
       "    }\n",
       "\n",
       "    .dataframe thead th {\n",
       "        text-align: right;\n",
       "    }\n",
       "</style>\n",
       "<table border=\"1\" class=\"dataframe\">\n",
       "  <thead>\n",
       "    <tr style=\"text-align: right;\">\n",
       "      <th></th>\n",
       "      <th>tag</th>\n",
       "      <th>pattern</th>\n",
       "      <th>response</th>\n",
       "    </tr>\n",
       "  </thead>\n",
       "  <tbody>\n",
       "    <tr>\n",
       "      <th>0</th>\n",
       "      <td>greeting</td>\n",
       "      <td>Hi</td>\n",
       "      <td>Hello there. Tell me how are you feeling today?</td>\n",
       "    </tr>\n",
       "    <tr>\n",
       "      <th>1</th>\n",
       "      <td>greeting</td>\n",
       "      <td>Hi</td>\n",
       "      <td>Hi there. What brings you here today?</td>\n",
       "    </tr>\n",
       "    <tr>\n",
       "      <th>2</th>\n",
       "      <td>greeting</td>\n",
       "      <td>Hi</td>\n",
       "      <td>Hi there. How are you feeling today?</td>\n",
       "    </tr>\n",
       "    <tr>\n",
       "      <th>3</th>\n",
       "      <td>greeting</td>\n",
       "      <td>Hi</td>\n",
       "      <td>Great to see you. How do you feel currently?</td>\n",
       "    </tr>\n",
       "    <tr>\n",
       "      <th>4</th>\n",
       "      <td>greeting</td>\n",
       "      <td>Hi</td>\n",
       "      <td>Hello there. Glad to see you're back. What's g...</td>\n",
       "    </tr>\n",
       "  </tbody>\n",
       "</table>\n",
       "</div>"
      ],
      "text/plain": [
       "        tag pattern                                           response\n",
       "0  greeting      Hi    Hello there. Tell me how are you feeling today?\n",
       "1  greeting      Hi              Hi there. What brings you here today?\n",
       "2  greeting      Hi               Hi there. How are you feeling today?\n",
       "3  greeting      Hi       Great to see you. How do you feel currently?\n",
       "4  greeting      Hi  Hello there. Glad to see you're back. What's g..."
      ]
     },
     "execution_count": 13,
     "metadata": {},
     "output_type": "execute_result"
    }
   ],
   "source": [
    "df3.head()"
   ]
  },
  {
   "cell_type": "code",
   "execution_count": 14,
   "id": "f90abdca",
   "metadata": {},
   "outputs": [
    {
     "data": {
      "text/html": [
       "<div>\n",
       "<style scoped>\n",
       "    .dataframe tbody tr th:only-of-type {\n",
       "        vertical-align: middle;\n",
       "    }\n",
       "\n",
       "    .dataframe tbody tr th {\n",
       "        vertical-align: top;\n",
       "    }\n",
       "\n",
       "    .dataframe thead th {\n",
       "        text-align: right;\n",
       "    }\n",
       "</style>\n",
       "<table border=\"1\" class=\"dataframe\">\n",
       "  <thead>\n",
       "    <tr style=\"text-align: right;\">\n",
       "      <th></th>\n",
       "      <th>tag</th>\n",
       "      <th>pattern</th>\n",
       "      <th>response</th>\n",
       "    </tr>\n",
       "  </thead>\n",
       "  <tbody>\n",
       "    <tr>\n",
       "      <th>797354</th>\n",
       "      <td>fact-29</td>\n",
       "      <td>How do I know if I'm unwell?</td>\n",
       "      <td>If your beliefs , thoughts , feelings or behav...</td>\n",
       "    </tr>\n",
       "    <tr>\n",
       "      <th>797355</th>\n",
       "      <td>fact-30</td>\n",
       "      <td>How can I maintain social connections? What if...</td>\n",
       "      <td>A lot of people are alone right now, but we do...</td>\n",
       "    </tr>\n",
       "    <tr>\n",
       "      <th>797356</th>\n",
       "      <td>fact-31</td>\n",
       "      <td>What's the difference between anxiety and stress?</td>\n",
       "      <td>Stress and anxiety are often used interchangea...</td>\n",
       "    </tr>\n",
       "    <tr>\n",
       "      <th>797357</th>\n",
       "      <td>fact-32</td>\n",
       "      <td>What's the difference between sadness and depr...</td>\n",
       "      <td>Sadness is a normal reaction to a loss, disapp...</td>\n",
       "    </tr>\n",
       "    <tr>\n",
       "      <th>797358</th>\n",
       "      <td>fact-32</td>\n",
       "      <td>difference between sadness and depression</td>\n",
       "      <td>Sadness is a normal reaction to a loss, disapp...</td>\n",
       "    </tr>\n",
       "  </tbody>\n",
       "</table>\n",
       "</div>"
      ],
      "text/plain": [
       "            tag                                            pattern  \\\n",
       "797354  fact-29                       How do I know if I'm unwell?   \n",
       "797355  fact-30  How can I maintain social connections? What if...   \n",
       "797356  fact-31  What's the difference between anxiety and stress?   \n",
       "797357  fact-32  What's the difference between sadness and depr...   \n",
       "797358  fact-32          difference between sadness and depression   \n",
       "\n",
       "                                                 response  \n",
       "797354  If your beliefs , thoughts , feelings or behav...  \n",
       "797355  A lot of people are alone right now, but we do...  \n",
       "797356  Stress and anxiety are often used interchangea...  \n",
       "797357  Sadness is a normal reaction to a loss, disapp...  \n",
       "797358  Sadness is a normal reaction to a loss, disapp...  "
      ]
     },
     "execution_count": 14,
     "metadata": {},
     "output_type": "execute_result"
    }
   ],
   "source": [
    "df3.tail()"
   ]
  },
  {
   "cell_type": "code",
   "execution_count": 15,
   "id": "6aadf5b0",
   "metadata": {},
   "outputs": [],
   "source": [
    "from datasets import load_dataset\n",
    "\n",
    "ds = load_dataset(\"heliosbrahma/mental_health_chatbot_dataset\")"
   ]
  },
  {
   "cell_type": "code",
   "execution_count": 16,
   "id": "72adc76e",
   "metadata": {},
   "outputs": [],
   "source": [
    "df4 = pd.DataFrame(ds)"
   ]
  },
  {
   "cell_type": "code",
   "execution_count": 17,
   "id": "65f85df1",
   "metadata": {},
   "outputs": [
    {
     "data": {
      "text/html": [
       "<div>\n",
       "<style scoped>\n",
       "    .dataframe tbody tr th:only-of-type {\n",
       "        vertical-align: middle;\n",
       "    }\n",
       "\n",
       "    .dataframe tbody tr th {\n",
       "        vertical-align: top;\n",
       "    }\n",
       "\n",
       "    .dataframe thead th {\n",
       "        text-align: right;\n",
       "    }\n",
       "</style>\n",
       "<table border=\"1\" class=\"dataframe\">\n",
       "  <thead>\n",
       "    <tr style=\"text-align: right;\">\n",
       "      <th></th>\n",
       "      <th>train</th>\n",
       "    </tr>\n",
       "  </thead>\n",
       "  <tbody>\n",
       "    <tr>\n",
       "      <th>0</th>\n",
       "      <td>{'text': '&lt;HUMAN&gt;: What is a panic attack?\n",
       "&lt;AS...</td>\n",
       "    </tr>\n",
       "    <tr>\n",
       "      <th>1</th>\n",
       "      <td>{'text': '&lt;HUMAN&gt;: What are symptoms of panic ...</td>\n",
       "    </tr>\n",
       "    <tr>\n",
       "      <th>2</th>\n",
       "      <td>{'text': '&lt;HUMAN&gt;: What are the types of Menta...</td>\n",
       "    </tr>\n",
       "    <tr>\n",
       "      <th>3</th>\n",
       "      <td>{'text': '&lt;HUMAN&gt;: What does mental-illness me...</td>\n",
       "    </tr>\n",
       "    <tr>\n",
       "      <th>4</th>\n",
       "      <td>{'text': '&lt;HUMAN&gt;: How can you treat mental il...</td>\n",
       "    </tr>\n",
       "  </tbody>\n",
       "</table>\n",
       "</div>"
      ],
      "text/plain": [
       "                                               train\n",
       "0  {'text': '<HUMAN>: What is a panic attack?\n",
       "<AS...\n",
       "1  {'text': '<HUMAN>: What are symptoms of panic ...\n",
       "2  {'text': '<HUMAN>: What are the types of Menta...\n",
       "3  {'text': '<HUMAN>: What does mental-illness me...\n",
       "4  {'text': '<HUMAN>: How can you treat mental il..."
      ]
     },
     "execution_count": 17,
     "metadata": {},
     "output_type": "execute_result"
    }
   ],
   "source": [
    "df4.head()"
   ]
  },
  {
   "cell_type": "code",
   "execution_count": 18,
   "id": "0bc82152",
   "metadata": {},
   "outputs": [
    {
     "data": {
      "text/html": [
       "<div>\n",
       "<style scoped>\n",
       "    .dataframe tbody tr th:only-of-type {\n",
       "        vertical-align: middle;\n",
       "    }\n",
       "\n",
       "    .dataframe tbody tr th {\n",
       "        vertical-align: top;\n",
       "    }\n",
       "\n",
       "    .dataframe thead th {\n",
       "        text-align: right;\n",
       "    }\n",
       "</style>\n",
       "<table border=\"1\" class=\"dataframe\">\n",
       "  <thead>\n",
       "    <tr style=\"text-align: right;\">\n",
       "      <th></th>\n",
       "      <th>tag</th>\n",
       "      <th>pattern</th>\n",
       "      <th>response</th>\n",
       "    </tr>\n",
       "  </thead>\n",
       "  <tbody>\n",
       "    <tr>\n",
       "      <th>0</th>\n",
       "      <td>greeting</td>\n",
       "      <td>Hi</td>\n",
       "      <td>Hello there. Tell me how are you feeling today?</td>\n",
       "    </tr>\n",
       "    <tr>\n",
       "      <th>1</th>\n",
       "      <td>greeting</td>\n",
       "      <td>Hi</td>\n",
       "      <td>Hi there. What brings you here today?</td>\n",
       "    </tr>\n",
       "    <tr>\n",
       "      <th>2</th>\n",
       "      <td>greeting</td>\n",
       "      <td>Hi</td>\n",
       "      <td>Hi there. How are you feeling today?</td>\n",
       "    </tr>\n",
       "    <tr>\n",
       "      <th>3</th>\n",
       "      <td>greeting</td>\n",
       "      <td>Hi</td>\n",
       "      <td>Great to see you. How do you feel currently?</td>\n",
       "    </tr>\n",
       "    <tr>\n",
       "      <th>4</th>\n",
       "      <td>greeting</td>\n",
       "      <td>Hi</td>\n",
       "      <td>Hello there. Glad to see you're back. What's g...</td>\n",
       "    </tr>\n",
       "    <tr>\n",
       "      <th>5</th>\n",
       "      <td>greeting</td>\n",
       "      <td>Hi</td>\n",
       "      <td>Namaste. How are you doing today?</td>\n",
       "    </tr>\n",
       "    <tr>\n",
       "      <th>6</th>\n",
       "      <td>greeting</td>\n",
       "      <td>Hi</td>\n",
       "      <td>Salut! How can I assist you today?</td>\n",
       "    </tr>\n",
       "    <tr>\n",
       "      <th>7</th>\n",
       "      <td>greeting</td>\n",
       "      <td>Hi</td>\n",
       "      <td>Ciao! What's on your mind?</td>\n",
       "    </tr>\n",
       "    <tr>\n",
       "      <th>8</th>\n",
       "      <td>greeting</td>\n",
       "      <td>Hi</td>\n",
       "      <td>Sawubona! How's your day going?</td>\n",
       "    </tr>\n",
       "    <tr>\n",
       "      <th>9</th>\n",
       "      <td>greeting</td>\n",
       "      <td>Hi</td>\n",
       "      <td>Hola! How can I help you today?</td>\n",
       "    </tr>\n",
       "    <tr>\n",
       "      <th>10</th>\n",
       "      <td>greeting</td>\n",
       "      <td>Hi</td>\n",
       "      <td>Bonjour! What can I do for you?</td>\n",
       "    </tr>\n",
       "    <tr>\n",
       "      <th>11</th>\n",
       "      <td>greeting</td>\n",
       "      <td>Hi</td>\n",
       "      <td>Konnichiwa! How are you feeling?</td>\n",
       "    </tr>\n",
       "    <tr>\n",
       "      <th>12</th>\n",
       "      <td>greeting</td>\n",
       "      <td>Hi</td>\n",
       "      <td>Guten tag! What brings you here?</td>\n",
       "    </tr>\n",
       "    <tr>\n",
       "      <th>13</th>\n",
       "      <td>greeting</td>\n",
       "      <td>Hi</td>\n",
       "      <td>Ola! How's everything going?</td>\n",
       "    </tr>\n",
       "    <tr>\n",
       "      <th>14</th>\n",
       "      <td>greeting</td>\n",
       "      <td>Hi</td>\n",
       "      <td>Hey! What's up?</td>\n",
       "    </tr>\n",
       "    <tr>\n",
       "      <th>15</th>\n",
       "      <td>greeting</td>\n",
       "      <td>Hi</td>\n",
       "      <td>Is anyone there? How can I assist you?</td>\n",
       "    </tr>\n",
       "    <tr>\n",
       "      <th>16</th>\n",
       "      <td>greeting</td>\n",
       "      <td>Hi</td>\n",
       "      <td>Hi there. What's new with you?</td>\n",
       "    </tr>\n",
       "    <tr>\n",
       "      <th>17</th>\n",
       "      <td>greeting</td>\n",
       "      <td>Hi</td>\n",
       "      <td>Hello! How can I support you today?</td>\n",
       "    </tr>\n",
       "    <tr>\n",
       "      <th>18</th>\n",
       "      <td>greeting</td>\n",
       "      <td>Hi</td>\n",
       "      <td>Hey there! How's your day going?</td>\n",
       "    </tr>\n",
       "    <tr>\n",
       "      <th>19</th>\n",
       "      <td>greeting</td>\n",
       "      <td>Hi</td>\n",
       "      <td>Howdy! What can I do for you?</td>\n",
       "    </tr>\n",
       "    <tr>\n",
       "      <th>20</th>\n",
       "      <td>greeting</td>\n",
       "      <td>Hi</td>\n",
       "      <td>Hey! What brings you here today?</td>\n",
       "    </tr>\n",
       "    <tr>\n",
       "      <th>21</th>\n",
       "      <td>greeting</td>\n",
       "      <td>Hi</td>\n",
       "      <td>Hello! What can I help you with?</td>\n",
       "    </tr>\n",
       "  </tbody>\n",
       "</table>\n",
       "</div>"
      ],
      "text/plain": [
       "         tag pattern                                           response\n",
       "0   greeting      Hi    Hello there. Tell me how are you feeling today?\n",
       "1   greeting      Hi              Hi there. What brings you here today?\n",
       "2   greeting      Hi               Hi there. How are you feeling today?\n",
       "3   greeting      Hi       Great to see you. How do you feel currently?\n",
       "4   greeting      Hi  Hello there. Glad to see you're back. What's g...\n",
       "5   greeting      Hi                  Namaste. How are you doing today?\n",
       "6   greeting      Hi                 Salut! How can I assist you today?\n",
       "7   greeting      Hi                         Ciao! What's on your mind?\n",
       "8   greeting      Hi                    Sawubona! How's your day going?\n",
       "9   greeting      Hi                    Hola! How can I help you today?\n",
       "10  greeting      Hi                    Bonjour! What can I do for you?\n",
       "11  greeting      Hi                   Konnichiwa! How are you feeling?\n",
       "12  greeting      Hi                   Guten tag! What brings you here?\n",
       "13  greeting      Hi                       Ola! How's everything going?\n",
       "14  greeting      Hi                                    Hey! What's up?\n",
       "15  greeting      Hi             Is anyone there? How can I assist you?\n",
       "16  greeting      Hi                     Hi there. What's new with you?\n",
       "17  greeting      Hi                Hello! How can I support you today?\n",
       "18  greeting      Hi                   Hey there! How's your day going?\n",
       "19  greeting      Hi                      Howdy! What can I do for you?\n",
       "20  greeting      Hi                   Hey! What brings you here today?\n",
       "21  greeting      Hi                   Hello! What can I help you with?"
      ]
     },
     "execution_count": 18,
     "metadata": {},
     "output_type": "execute_result"
    }
   ],
   "source": [
    "df3[df3['pattern'] == 'Hi']"
   ]
  },
  {
   "cell_type": "code",
   "execution_count": 19,
   "id": "055435cc",
   "metadata": {},
   "outputs": [],
   "source": [
    "df['train'] = df['train'].apply(lambda x: {k: v for k, v in x.items() if k != 'instruction'})\n"
   ]
  },
  {
   "cell_type": "code",
   "execution_count": 20,
   "id": "cdfa870e",
   "metadata": {},
   "outputs": [
    {
     "data": {
      "text/html": [
       "<div>\n",
       "<style scoped>\n",
       "    .dataframe tbody tr th:only-of-type {\n",
       "        vertical-align: middle;\n",
       "    }\n",
       "\n",
       "    .dataframe tbody tr th {\n",
       "        vertical-align: top;\n",
       "    }\n",
       "\n",
       "    .dataframe thead th {\n",
       "        text-align: right;\n",
       "    }\n",
       "</style>\n",
       "<table border=\"1\" class=\"dataframe\">\n",
       "  <thead>\n",
       "    <tr style=\"text-align: right;\">\n",
       "      <th></th>\n",
       "      <th>train</th>\n",
       "    </tr>\n",
       "  </thead>\n",
       "  <tbody>\n",
       "    <tr>\n",
       "      <th>0</th>\n",
       "      <td>{'input': 'I've been struggling with my mental...</td>\n",
       "    </tr>\n",
       "    <tr>\n",
       "      <th>1</th>\n",
       "      <td>{'input': 'I've been feeling overwhelmed with ...</td>\n",
       "    </tr>\n",
       "    <tr>\n",
       "      <th>2</th>\n",
       "      <td>{'input': 'I've been feeling constantly anxiou...</td>\n",
       "    </tr>\n",
       "    <tr>\n",
       "      <th>3</th>\n",
       "      <td>{'input': 'My mom has Alzheimer's, and I've be...</td>\n",
       "    </tr>\n",
       "    <tr>\n",
       "      <th>4</th>\n",
       "      <td>{'input': 'I've tried setting boundaries, but ...</td>\n",
       "    </tr>\n",
       "    <tr>\n",
       "      <th>...</th>\n",
       "      <td>...</td>\n",
       "    </tr>\n",
       "    <tr>\n",
       "      <th>16079</th>\n",
       "      <td>{'input': 'Good day! Socializing has become in...</td>\n",
       "    </tr>\n",
       "    <tr>\n",
       "      <th>16080</th>\n",
       "      <td>{'input': 'Hey there, thank you for seeing me ...</td>\n",
       "    </tr>\n",
       "    <tr>\n",
       "      <th>16081</th>\n",
       "      <td>{'input': 'Hi, I honestly need some guidance r...</td>\n",
       "    </tr>\n",
       "    <tr>\n",
       "      <th>16082</th>\n",
       "      <td>{'input': 'Hello, thank you for seeing me toda...</td>\n",
       "    </tr>\n",
       "    <tr>\n",
       "      <th>16083</th>\n",
       "      <td>{'input': 'Good day! Recently, I went through ...</td>\n",
       "    </tr>\n",
       "  </tbody>\n",
       "</table>\n",
       "<p>16084 rows × 1 columns</p>\n",
       "</div>"
      ],
      "text/plain": [
       "                                                   train\n",
       "0      {'input': 'I've been struggling with my mental...\n",
       "1      {'input': 'I've been feeling overwhelmed with ...\n",
       "2      {'input': 'I've been feeling constantly anxiou...\n",
       "3      {'input': 'My mom has Alzheimer's, and I've be...\n",
       "4      {'input': 'I've tried setting boundaries, but ...\n",
       "...                                                  ...\n",
       "16079  {'input': 'Good day! Socializing has become in...\n",
       "16080  {'input': 'Hey there, thank you for seeing me ...\n",
       "16081  {'input': 'Hi, I honestly need some guidance r...\n",
       "16082  {'input': 'Hello, thank you for seeing me toda...\n",
       "16083  {'input': 'Good day! Recently, I went through ...\n",
       "\n",
       "[16084 rows x 1 columns]"
      ]
     },
     "execution_count": 20,
     "metadata": {},
     "output_type": "execute_result"
    }
   ],
   "source": [
    "df"
   ]
  },
  {
   "cell_type": "code",
   "execution_count": 21,
   "id": "59546bd2",
   "metadata": {},
   "outputs": [
    {
     "data": {
      "text/plain": [
       "{'input': \"I've been feeling constantly anxious and unable to focus on anything for more than a few minutes at a time. I can't seem to get anything done, and I'm starting to feel like I'm failing everyone who's relying on me.\",\n",
       " 'output': 'I can see that you\\'re dealing with a great deal of anxiety and that it\\'s impacting your ability to focus and be productive. It\\'s important to remember that anxiety is a normal response to stress, but when it becomes chronic and interferes with your daily life, it can be debilitating.\\n\\nOne approach to managing anxiety is through cognitive-behavioral techniques. This involves identifying and challenging negative thought patterns, or cognitive distortions, that contribute to your anxiety. For example, you might be thinking things like \"I can\\'t do this,\" or \"I\\'ll never be able to handle this situation.\" These thoughts can create a cycle of anxiety and make it even harder to focus and be productive.\\n\\nAnother approach is through relaxation techniques, such as deep breathing, progressive muscle relaxation, or mindfulness meditation. These techniques can help you manage your physical symptoms of anxiety, such as a racing heart or tense muscles, and can help you feel more calm and focused.\\n\\nIt\\'s also important to prioritize self-care and make time for activities that bring you joy and help you relax. This might include things like reading, taking a walk, or practicing a hobby. By taking care of yourself, you\\'ll be better equipped to manage your anxiety and be more effective in your role as a helper to others.\\n\\nLastly, it\\'s crucial to set realistic and attainable goals for yourself. This means identifying what you can realistically accomplish, given the resources and constraints you have. And remember, it\\'s essential to distinguish between facts and assumptions when setting these goals. For example, instead of assuming that you can\\'t do anything about the situation, focus on what you can do and set goals based on that.\\n\\nIt\\'s also important to acknowledge and address any obstacles that might be preventing you from achieving these goals. By identifying and addressing these obstacles, you\\'ll be better equipped to make progress and feel more in control of the situation.'}"
      ]
     },
     "execution_count": 21,
     "metadata": {},
     "output_type": "execute_result"
    }
   ],
   "source": [
    "df.iloc[2]['train']"
   ]
  },
  {
   "cell_type": "code",
   "execution_count": 22,
   "id": "08ee0dc5",
   "metadata": {},
   "outputs": [],
   "source": [
    "import re\n",
    "import string\n",
    "from bs4 import BeautifulSoup\n",
    "\n",
    "def clean_text(text):\n",
    "    # Remove HTML tags\n",
    "    text = BeautifulSoup(text, \"html.parser\").get_text()\n",
    "    \n",
    "    # Remove leading and trailing whitespace\n",
    "    text = text.strip()\n",
    "    \n",
    "    # Replace multiple spaces and newlines with a single space\n",
    "    text = re.sub(r'\\s+', ' ', text)\n",
    "    \n",
    "    # Remove punctuation\n",
    "    text = text.translate(str.maketrans('', '', string.punctuation))\n",
    "    \n",
    "    # Remove emojis\n",
    "    emoji_pattern = re.compile(\n",
    "        \"[\"\n",
    "        \"\\U0001F600-\\U0001F64F\"  # Emoticons\n",
    "        \"\\U0001F300-\\U0001F5FF\"  # Symbols & pictographs\n",
    "        \"\\U0001F680-\\U0001F6FF\"  # Transport & map symbols\n",
    "        \"\\U0001F700-\\U0001F77F\"  # Alchemical symbols\n",
    "        \"\\U0001F780-\\U0001F7FF\"  # Geometric shapes\n",
    "        \"\\U0001F800-\\U0001F8FF\"  # Supplemental arrows\n",
    "        \"\\U0001F900-\\U0001F9FF\"  # Supplemental symbols and pictographs\n",
    "        \"\\U0001FA00-\\U0001FA6F\"  # Chess symbols\n",
    "        \"\\U0001FA70-\\U0001FAFF\"  # Symbols and pictographs extended-A\n",
    "        \"\\U00002702-\\U000027B0\"  # Dingbats\n",
    "        \"\\U000024C2-\\U0001F251\" \n",
    "        \"]+\",\n",
    "        flags=re.UNICODE\n",
    "    )\n",
    "    text = emoji_pattern.sub(r'', text)\n",
    "    text = text.lower()\n",
    "    \n",
    "    return text"
   ]
  },
  {
   "cell_type": "code",
   "execution_count": 23,
   "id": "b4bcaeae",
   "metadata": {},
   "outputs": [
    {
     "name": "stdout",
     "output_type": "stream",
     "text": [
      "i can see that youre dealing with a great deal of anxiety and that its impacting your ability to focus and be productive its important to remember that anxiety is a normal response to stress but when it becomes chronic and interferes with your daily life it can be debilitating one approach to managing anxiety is through cognitivebehavioral techniques this involves identifying and challenging negative thought patterns or cognitive distortions that contribute to your anxiety for example you might be thinking things like i cant do this or ill never be able to handle this situation these thoughts can create a cycle of anxiety and make it even harder to focus and be productive another approach is through relaxation techniques such as deep breathing progressive muscle relaxation or mindfulness meditation these techniques can help you manage your physical symptoms of anxiety such as a racing heart or tense muscles and can help you feel more calm and focused its also important to prioritize selfcare and make time for activities that bring you joy and help you relax this might include things like reading taking a walk or practicing a hobby by taking care of yourself youll be better equipped to manage your anxiety and be more effective in your role as a helper to others lastly its crucial to set realistic and attainable goals for yourself this means identifying what you can realistically accomplish given the resources and constraints you have and remember its essential to distinguish between facts and assumptions when setting these goals for example instead of assuming that you cant do anything about the situation focus on what you can do and set goals based on that its also important to acknowledge and address any obstacles that might be preventing you from achieving these goals by identifying and addressing these obstacles youll be better equipped to make progress and feel more in control of the situation\n"
     ]
    }
   ],
   "source": [
    "print(clean_text(df.iloc[2]['train']['output']))"
   ]
  },
  {
   "cell_type": "code",
   "execution_count": 25,
   "id": "1b289183",
   "metadata": {},
   "outputs": [
    {
     "name": "stdout",
     "output_type": "stream",
     "text": [
      "Input: I've been feeling constantly anxious and unable to focus on anything for more than a few minutes at a time. I can't seem to get anything done, and I'm starting to feel like I'm failing everyone who's relying on me.  Output: I can see that you're dealing with a great deal of anxiety and that it's impacting your ability to focus and be productive. It's important to remember that anxiety is a normal response to stress, but when it becomes chronic and interferes with your daily life, it can be debilitating.\n",
      "\n",
      "One approach to managing anxiety is through cognitive-behavioral techniques. This involves identifying and challenging negative thought patterns, or cognitive distortions, that contribute to your anxiety. For example, you might be thinking things like \"I can't do this,\" or \"I'll never be able to handle this situation.\" These thoughts can create a cycle of anxiety and make it even harder to focus and be productive.\n",
      "\n",
      "Another approach is through relaxation techniques, such as deep breathing, progressive muscle relaxation, or mindfulness meditation. These techniques can help you manage your physical symptoms of anxiety, such as a racing heart or tense muscles, and can help you feel more calm and focused.\n",
      "\n",
      "It's also important to prioritize self-care and make time for activities that bring you joy and help you relax. This might include things like reading, taking a walk, or practicing a hobby. By taking care of yourself, you'll be better equipped to manage your anxiety and be more effective in your role as a helper to others.\n",
      "\n",
      "Lastly, it's crucial to set realistic and attainable goals for yourself. This means identifying what you can realistically accomplish, given the resources and constraints you have. And remember, it's essential to distinguish between facts and assumptions when setting these goals. For example, instead of assuming that you can't do anything about the situation, focus on what you can do and set goals based on that.\n",
      "\n",
      "It's also important to acknowledge and address any obstacles that might be preventing you from achieving these goals. By identifying and addressing these obstacles, you'll be better equipped to make progress and feel more in control of the situation.\n"
     ]
    }
   ],
   "source": [
    "print(merge_input_output(df.iloc[2]['train']))"
   ]
  },
  {
   "cell_type": "code",
   "execution_count": 26,
   "id": "b3ba73c3",
   "metadata": {},
   "outputs": [],
   "source": [
    "df = df['train'].apply(merge_input_output)"
   ]
  },
  {
   "cell_type": "code",
   "execution_count": 27,
   "id": "a24d2086",
   "metadata": {},
   "outputs": [],
   "source": [
    "df = df.apply(clean_text)"
   ]
  },
  {
   "cell_type": "code",
   "execution_count": 28,
   "id": "988cde14",
   "metadata": {},
   "outputs": [
    {
     "data": {
      "text/plain": [
       "0        input ive been struggling with my mental healt...\n",
       "1        input ive been feeling overwhelmed with my car...\n",
       "2        input ive been feeling constantly anxious and ...\n",
       "3        input my mom has alzheimers and ive been her p...\n",
       "4        input ive tried setting boundaries but it feel...\n",
       "                               ...                        \n",
       "16079    input good day socializing has become increasi...\n",
       "16080    input hey there thank you for seeing me today ...\n",
       "16081    input hi i honestly need some guidance regardi...\n",
       "16082    input hello thank you for seeing me today ive ...\n",
       "16083    input good day recently i went through a signi...\n",
       "Name: train, Length: 16084, dtype: object"
      ]
     },
     "execution_count": 28,
     "metadata": {},
     "output_type": "execute_result"
    }
   ],
   "source": [
    "df"
   ]
  },
  {
   "cell_type": "code",
   "execution_count": 29,
   "id": "1841219b",
   "metadata": {},
   "outputs": [],
   "source": [
    "output_file = 'data.txt'\n",
    "with open(output_file, 'a', encoding='utf-8') as f:\n",
    "    for text in df:\n",
    "        f.write(text + \"\\n\")"
   ]
  },
  {
   "cell_type": "code",
   "execution_count": 78,
   "id": "e00547df",
   "metadata": {},
   "outputs": [
    {
     "name": "stdout",
     "output_type": "stream",
     "text": [
      "'C://Users//utkar//OneDrive//Desktop//MERA//data_text.txt' has been deleted.\n"
     ]
    }
   ],
   "source": [
    "# import os\n",
    "\n",
    "# # Specify the file path\n",
    "# file_path = 'C://Users//utkar//OneDrive//Desktop//MERA//data_text.txt'\n",
    "\n",
    "# # Check if the file exists and delete it\n",
    "# if os.path.exists(file_path):\n",
    "#     os.remove(file_path)\n",
    "#     print(f\"'{file_path}' has been deleted.\")\n",
    "# else:\n",
    "#     print(f\"'{file_path}' does not exist.\")"
   ]
  },
  {
   "cell_type": "code",
   "execution_count": 30,
   "id": "653671df",
   "metadata": {},
   "outputs": [
    {
     "data": {
      "text/html": [
       "<div>\n",
       "<style scoped>\n",
       "    .dataframe tbody tr th:only-of-type {\n",
       "        vertical-align: middle;\n",
       "    }\n",
       "\n",
       "    .dataframe tbody tr th {\n",
       "        vertical-align: top;\n",
       "    }\n",
       "\n",
       "    .dataframe thead th {\n",
       "        text-align: right;\n",
       "    }\n",
       "</style>\n",
       "<table border=\"1\" class=\"dataframe\">\n",
       "  <thead>\n",
       "    <tr style=\"text-align: right;\">\n",
       "      <th></th>\n",
       "      <th>train</th>\n",
       "    </tr>\n",
       "  </thead>\n",
       "  <tbody>\n",
       "    <tr>\n",
       "      <th>0</th>\n",
       "      <td>{'Context': 'I'm going through some things wit...</td>\n",
       "    </tr>\n",
       "    <tr>\n",
       "      <th>1</th>\n",
       "      <td>{'Context': 'I'm going through some things wit...</td>\n",
       "    </tr>\n",
       "    <tr>\n",
       "      <th>2</th>\n",
       "      <td>{'Context': 'I'm going through some things wit...</td>\n",
       "    </tr>\n",
       "    <tr>\n",
       "      <th>3</th>\n",
       "      <td>{'Context': 'I'm going through some things wit...</td>\n",
       "    </tr>\n",
       "    <tr>\n",
       "      <th>4</th>\n",
       "      <td>{'Context': 'I'm going through some things wit...</td>\n",
       "    </tr>\n",
       "    <tr>\n",
       "      <th>...</th>\n",
       "      <td>...</td>\n",
       "    </tr>\n",
       "    <tr>\n",
       "      <th>867854</th>\n",
       "      <td>{'Context': 'Well, Alex, it all started when w...</td>\n",
       "    </tr>\n",
       "    <tr>\n",
       "      <th>867855</th>\n",
       "      <td>{'Context': 'I did try to express myself, Alex...</td>\n",
       "    </tr>\n",
       "    <tr>\n",
       "      <th>867856</th>\n",
       "      <td>{'Context': 'Yes, I've thought about it, Alex....</td>\n",
       "    </tr>\n",
       "    <tr>\n",
       "      <th>867857</th>\n",
       "      <td>{'Context': 'I haven't really thought about it...</td>\n",
       "    </tr>\n",
       "    <tr>\n",
       "      <th>867858</th>\n",
       "      <td>{'Context': 'I will, Alex. I'll practice self-...</td>\n",
       "    </tr>\n",
       "  </tbody>\n",
       "</table>\n",
       "<p>867859 rows × 1 columns</p>\n",
       "</div>"
      ],
      "text/plain": [
       "                                                    train\n",
       "0       {'Context': 'I'm going through some things wit...\n",
       "1       {'Context': 'I'm going through some things wit...\n",
       "2       {'Context': 'I'm going through some things wit...\n",
       "3       {'Context': 'I'm going through some things wit...\n",
       "4       {'Context': 'I'm going through some things wit...\n",
       "...                                                   ...\n",
       "867854  {'Context': 'Well, Alex, it all started when w...\n",
       "867855  {'Context': 'I did try to express myself, Alex...\n",
       "867856  {'Context': 'Yes, I've thought about it, Alex....\n",
       "867857  {'Context': 'I haven't really thought about it...\n",
       "867858  {'Context': 'I will, Alex. I'll practice self-...\n",
       "\n",
       "[867859 rows x 1 columns]"
      ]
     },
     "execution_count": 30,
     "metadata": {},
     "output_type": "execute_result"
    }
   ],
   "source": [
    "df2"
   ]
  },
  {
   "cell_type": "code",
   "execution_count": 32,
   "id": "81007b8e",
   "metadata": {},
   "outputs": [],
   "source": [
    "df2 = df2['train'].apply(merge_input_output)"
   ]
  },
  {
   "cell_type": "code",
   "execution_count": 33,
   "id": "f90e23e2",
   "metadata": {},
   "outputs": [
    {
     "data": {
      "text/plain": [
       "0         Input: I'm going through some things with my f...\n",
       "1         Input: I'm going through some things with my f...\n",
       "2         Input: I'm going through some things with my f...\n",
       "3         Input: I'm going through some things with my f...\n",
       "4         Input: I'm going through some things with my f...\n",
       "                                ...                        \n",
       "867854    Input: Well, Alex, it all started when we had ...\n",
       "867855    Input: I did try to express myself, Alex, but ...\n",
       "867856    Input: Yes, I've thought about it, Alex. But I...\n",
       "867857    Input: I haven't really thought about it, Alex...\n",
       "867858    Input: I will, Alex. I'll practice self-care, ...\n",
       "Name: train, Length: 867859, dtype: object"
      ]
     },
     "execution_count": 33,
     "metadata": {},
     "output_type": "execute_result"
    }
   ],
   "source": [
    "df2"
   ]
  },
  {
   "cell_type": "code",
   "execution_count": 37,
   "id": "d019cff6",
   "metadata": {},
   "outputs": [],
   "source": [
    "from tqdm import tqdm"
   ]
  },
  {
   "cell_type": "code",
   "execution_count": 38,
   "id": "3d12287e",
   "metadata": {},
   "outputs": [],
   "source": [
    "df2 = df2.apply(clean_text)"
   ]
  },
  {
   "cell_type": "code",
   "execution_count": 39,
   "id": "c595a7f7",
   "metadata": {},
   "outputs": [
    {
     "data": {
      "text/plain": [
       "0         input im going through some things with my fee...\n",
       "1         input im going through some things with my fee...\n",
       "2         input im going through some things with my fee...\n",
       "3         input im going through some things with my fee...\n",
       "4         input im going through some things with my fee...\n",
       "                                ...                        \n",
       "867854    input well alex it all started when we had a d...\n",
       "867855    input i did try to express myself alex but it ...\n",
       "867856    input yes ive thought about it alex but i worr...\n",
       "867857    input i havent really thought about it alex ma...\n",
       "867858    input i will alex ill practice selfcare surrou...\n",
       "Name: train, Length: 867859, dtype: object"
      ]
     },
     "execution_count": 39,
     "metadata": {},
     "output_type": "execute_result"
    }
   ],
   "source": [
    "df2"
   ]
  },
  {
   "cell_type": "code",
   "execution_count": 36,
   "id": "1c8d77a4",
   "metadata": {},
   "outputs": [
    {
     "data": {
      "text/plain": [
       "\"Input: I'm going through some things with my feelings and myself. I barely sleep and I do nothing but think about how I'm worthless and how I shouldn't be here.\\n   I've never tried or contemplated suicide. I've always wanted to fix my issues, but I never get around to it.\\n   How can I change my feeling of being worthless to everyone?  Output: If everyone thinks you're worthless, then maybe you need to find new people to hang out with.Seriously, the social context in which a person lives is a big influence in self-esteem.Otherwise, you can go round and round trying to understand why you're not worthless, then go back to the same crowd and be knocked down again.There are many inspirational messages you can find in social media. \\xa0Maybe read some of the ones which state that no person is worthless, and that everyone has a good purpose to their life.Also, since our culture is so saturated with the belief that if someone doesn't feel good about themselves that this is somehow terrible.Bad feelings are part of living. \\xa0They are the motivation to remove ourselves from situations and relationships which do us more harm than good.Bad feelings do feel terrible. \\xa0 Your feeling of worthlessness may be good in the sense of motivating you to find out that you are much better than your feelings today.\""
      ]
     },
     "execution_count": 36,
     "metadata": {},
     "output_type": "execute_result"
    }
   ],
   "source": [
    "df2[1]"
   ]
  },
  {
   "cell_type": "code",
   "execution_count": 41,
   "id": "0450d710",
   "metadata": {},
   "outputs": [],
   "source": [
    "df2 = df2.drop_duplicates()\n"
   ]
  },
  {
   "cell_type": "code",
   "execution_count": 42,
   "id": "eea36946",
   "metadata": {},
   "outputs": [
    {
     "data": {
      "text/plain": [
       "0         input im going through some things with my fee...\n",
       "1         input im going through some things with my fee...\n",
       "2         input im going through some things with my fee...\n",
       "3         input im going through some things with my fee...\n",
       "4         input im going through some things with my fee...\n",
       "                                ...                        \n",
       "867568    input its just that everything reminds me of h...\n",
       "867574    input well its been a tough road for us we wer...\n",
       "867677    input well i used to enjoy painting it was a w...\n",
       "867704    input i think being kinder to myself and pract...\n",
       "867732    input well alex one recurring pattern ive noti...\n",
       "Name: train, Length: 831714, dtype: object"
      ]
     },
     "execution_count": 42,
     "metadata": {},
     "output_type": "execute_result"
    }
   ],
   "source": [
    "df2"
   ]
  },
  {
   "cell_type": "code",
   "execution_count": 43,
   "id": "182cf216",
   "metadata": {},
   "outputs": [],
   "source": [
    "with open(output_file, 'a', encoding='utf-8') as f:\n",
    "    for text in df2:\n",
    "        f.write(text + \"\\n\")"
   ]
  },
  {
   "cell_type": "code",
   "execution_count": 44,
   "id": "5af709d6",
   "metadata": {},
   "outputs": [
    {
     "data": {
      "text/html": [
       "<div>\n",
       "<style scoped>\n",
       "    .dataframe tbody tr th:only-of-type {\n",
       "        vertical-align: middle;\n",
       "    }\n",
       "\n",
       "    .dataframe tbody tr th {\n",
       "        vertical-align: top;\n",
       "    }\n",
       "\n",
       "    .dataframe thead th {\n",
       "        text-align: right;\n",
       "    }\n",
       "</style>\n",
       "<table border=\"1\" class=\"dataframe\">\n",
       "  <thead>\n",
       "    <tr style=\"text-align: right;\">\n",
       "      <th></th>\n",
       "      <th>tag</th>\n",
       "      <th>pattern</th>\n",
       "      <th>response</th>\n",
       "    </tr>\n",
       "  </thead>\n",
       "  <tbody>\n",
       "    <tr>\n",
       "      <th>0</th>\n",
       "      <td>greeting</td>\n",
       "      <td>Hi</td>\n",
       "      <td>Hello there. Tell me how are you feeling today?</td>\n",
       "    </tr>\n",
       "    <tr>\n",
       "      <th>1</th>\n",
       "      <td>greeting</td>\n",
       "      <td>Hi</td>\n",
       "      <td>Hi there. What brings you here today?</td>\n",
       "    </tr>\n",
       "    <tr>\n",
       "      <th>2</th>\n",
       "      <td>greeting</td>\n",
       "      <td>Hi</td>\n",
       "      <td>Hi there. How are you feeling today?</td>\n",
       "    </tr>\n",
       "    <tr>\n",
       "      <th>3</th>\n",
       "      <td>greeting</td>\n",
       "      <td>Hi</td>\n",
       "      <td>Great to see you. How do you feel currently?</td>\n",
       "    </tr>\n",
       "    <tr>\n",
       "      <th>4</th>\n",
       "      <td>greeting</td>\n",
       "      <td>Hi</td>\n",
       "      <td>Hello there. Glad to see you're back. What's g...</td>\n",
       "    </tr>\n",
       "    <tr>\n",
       "      <th>...</th>\n",
       "      <td>...</td>\n",
       "      <td>...</td>\n",
       "      <td>...</td>\n",
       "    </tr>\n",
       "    <tr>\n",
       "      <th>797354</th>\n",
       "      <td>fact-29</td>\n",
       "      <td>How do I know if I'm unwell?</td>\n",
       "      <td>If your beliefs , thoughts , feelings or behav...</td>\n",
       "    </tr>\n",
       "    <tr>\n",
       "      <th>797355</th>\n",
       "      <td>fact-30</td>\n",
       "      <td>How can I maintain social connections? What if...</td>\n",
       "      <td>A lot of people are alone right now, but we do...</td>\n",
       "    </tr>\n",
       "    <tr>\n",
       "      <th>797356</th>\n",
       "      <td>fact-31</td>\n",
       "      <td>What's the difference between anxiety and stress?</td>\n",
       "      <td>Stress and anxiety are often used interchangea...</td>\n",
       "    </tr>\n",
       "    <tr>\n",
       "      <th>797357</th>\n",
       "      <td>fact-32</td>\n",
       "      <td>What's the difference between sadness and depr...</td>\n",
       "      <td>Sadness is a normal reaction to a loss, disapp...</td>\n",
       "    </tr>\n",
       "    <tr>\n",
       "      <th>797358</th>\n",
       "      <td>fact-32</td>\n",
       "      <td>difference between sadness and depression</td>\n",
       "      <td>Sadness is a normal reaction to a loss, disapp...</td>\n",
       "    </tr>\n",
       "  </tbody>\n",
       "</table>\n",
       "<p>797359 rows × 3 columns</p>\n",
       "</div>"
      ],
      "text/plain": [
       "             tag                                            pattern  \\\n",
       "0       greeting                                                 Hi   \n",
       "1       greeting                                                 Hi   \n",
       "2       greeting                                                 Hi   \n",
       "3       greeting                                                 Hi   \n",
       "4       greeting                                                 Hi   \n",
       "...          ...                                                ...   \n",
       "797354   fact-29                       How do I know if I'm unwell?   \n",
       "797355   fact-30  How can I maintain social connections? What if...   \n",
       "797356   fact-31  What's the difference between anxiety and stress?   \n",
       "797357   fact-32  What's the difference between sadness and depr...   \n",
       "797358   fact-32          difference between sadness and depression   \n",
       "\n",
       "                                                 response  \n",
       "0         Hello there. Tell me how are you feeling today?  \n",
       "1                   Hi there. What brings you here today?  \n",
       "2                    Hi there. How are you feeling today?  \n",
       "3            Great to see you. How do you feel currently?  \n",
       "4       Hello there. Glad to see you're back. What's g...  \n",
       "...                                                   ...  \n",
       "797354  If your beliefs , thoughts , feelings or behav...  \n",
       "797355  A lot of people are alone right now, but we do...  \n",
       "797356  Stress and anxiety are often used interchangea...  \n",
       "797357  Sadness is a normal reaction to a loss, disapp...  \n",
       "797358  Sadness is a normal reaction to a loss, disapp...  \n",
       "\n",
       "[797359 rows x 3 columns]"
      ]
     },
     "execution_count": 44,
     "metadata": {},
     "output_type": "execute_result"
    }
   ],
   "source": [
    "df3"
   ]
  },
  {
   "cell_type": "code",
   "execution_count": 51,
   "id": "c78ce222",
   "metadata": {},
   "outputs": [
    {
     "data": {
      "text/plain": [
       "'Hi'"
      ]
     },
     "execution_count": 51,
     "metadata": {},
     "output_type": "execute_result"
    }
   ],
   "source": [
    "df3.iloc[0]['pattern']"
   ]
  },
  {
   "cell_type": "code",
   "execution_count": 52,
   "id": "d8185ed5",
   "metadata": {},
   "outputs": [],
   "source": [
    "df3 = df3.apply(merge_input_output, axis = 1)"
   ]
  },
  {
   "cell_type": "code",
   "execution_count": 53,
   "id": "05c4f6f4",
   "metadata": {},
   "outputs": [
    {
     "data": {
      "text/plain": [
       "0         Input: Hi  Output: Hello there. Tell me how ar...\n",
       "1         Input: Hi  Output: Hi there. What brings you h...\n",
       "2         Input: Hi  Output: Hi there. How are you feeli...\n",
       "3         Input: Hi  Output: Great to see you. How do yo...\n",
       "4         Input: Hi  Output: Hello there. Glad to see yo...\n",
       "                                ...                        \n",
       "797354    Input: How do I know if I'm unwell?  Output: I...\n",
       "797355    Input: How can I maintain social connections? ...\n",
       "797356    Input: What's the difference between anxiety a...\n",
       "797357    Input: What's the difference between sadness a...\n",
       "797358    Input: difference between sadness and depressi...\n",
       "Length: 797359, dtype: object"
      ]
     },
     "execution_count": 53,
     "metadata": {},
     "output_type": "execute_result"
    }
   ],
   "source": [
    "df3"
   ]
  },
  {
   "cell_type": "code",
   "execution_count": 54,
   "id": "b882474b",
   "metadata": {},
   "outputs": [
    {
     "data": {
      "text/plain": [
       "0         Input: Hi  Output: Hello there. Tell me how ar...\n",
       "1         Input: Hi  Output: Hi there. What brings you h...\n",
       "2         Input: Hi  Output: Hi there. How are you feeli...\n",
       "3         Input: Hi  Output: Great to see you. How do yo...\n",
       "4         Input: Hi  Output: Hello there. Glad to see yo...\n",
       "                                ...                        \n",
       "797354    Input: How do I know if I'm unwell?  Output: I...\n",
       "797355    Input: How can I maintain social connections? ...\n",
       "797356    Input: What's the difference between anxiety a...\n",
       "797357    Input: What's the difference between sadness a...\n",
       "797358    Input: difference between sadness and depressi...\n",
       "Length: 129124, dtype: object"
      ]
     },
     "execution_count": 54,
     "metadata": {},
     "output_type": "execute_result"
    }
   ],
   "source": [
    "df3.drop_duplicates()"
   ]
  },
  {
   "cell_type": "code",
   "execution_count": 55,
   "id": "b0343afa",
   "metadata": {},
   "outputs": [
    {
     "data": {
      "text/plain": [
       "0         input hi output hello there tell me how are yo...\n",
       "1         input hi output hi there what brings you here ...\n",
       "2         input hi output hi there how are you feeling t...\n",
       "3         input hi output great to see you how do you fe...\n",
       "4         input hi output hello there glad to see youre ...\n",
       "                                ...                        \n",
       "797354    input how do i know if im unwell output if you...\n",
       "797355    input how can i maintain social connections wh...\n",
       "797356    input whats the difference between anxiety and...\n",
       "797357    input whats the difference between sadness and...\n",
       "797358    input difference between sadness and depressio...\n",
       "Length: 797359, dtype: object"
      ]
     },
     "execution_count": 55,
     "metadata": {},
     "output_type": "execute_result"
    }
   ],
   "source": [
    "df3.apply(clean_text)"
   ]
  },
  {
   "cell_type": "code",
   "execution_count": 56,
   "id": "e5a19df6",
   "metadata": {},
   "outputs": [],
   "source": [
    "with open(output_file, 'a', encoding='utf-8') as f:\n",
    "    for text in df3:\n",
    "        f.write(text + \"\\n\")"
   ]
  },
  {
   "cell_type": "code",
   "execution_count": 57,
   "id": "13a708b7",
   "metadata": {},
   "outputs": [
    {
     "data": {
      "text/html": [
       "<div>\n",
       "<style scoped>\n",
       "    .dataframe tbody tr th:only-of-type {\n",
       "        vertical-align: middle;\n",
       "    }\n",
       "\n",
       "    .dataframe tbody tr th {\n",
       "        vertical-align: top;\n",
       "    }\n",
       "\n",
       "    .dataframe thead th {\n",
       "        text-align: right;\n",
       "    }\n",
       "</style>\n",
       "<table border=\"1\" class=\"dataframe\">\n",
       "  <thead>\n",
       "    <tr style=\"text-align: right;\">\n",
       "      <th></th>\n",
       "      <th>train</th>\n",
       "    </tr>\n",
       "  </thead>\n",
       "  <tbody>\n",
       "    <tr>\n",
       "      <th>0</th>\n",
       "      <td>{'text': '&lt;HUMAN&gt;: What is a panic attack?\n",
       "&lt;AS...</td>\n",
       "    </tr>\n",
       "    <tr>\n",
       "      <th>1</th>\n",
       "      <td>{'text': '&lt;HUMAN&gt;: What are symptoms of panic ...</td>\n",
       "    </tr>\n",
       "    <tr>\n",
       "      <th>2</th>\n",
       "      <td>{'text': '&lt;HUMAN&gt;: What are the types of Menta...</td>\n",
       "    </tr>\n",
       "    <tr>\n",
       "      <th>3</th>\n",
       "      <td>{'text': '&lt;HUMAN&gt;: What does mental-illness me...</td>\n",
       "    </tr>\n",
       "    <tr>\n",
       "      <th>4</th>\n",
       "      <td>{'text': '&lt;HUMAN&gt;: How can you treat mental il...</td>\n",
       "    </tr>\n",
       "    <tr>\n",
       "      <th>...</th>\n",
       "      <td>...</td>\n",
       "    </tr>\n",
       "    <tr>\n",
       "      <th>167</th>\n",
       "      <td>{'text': '&lt;HUMAN&gt;: Who are you?\n",
       "&lt;ASSISTANT&gt;: H...</td>\n",
       "    </tr>\n",
       "    <tr>\n",
       "      <th>168</th>\n",
       "      <td>{'text': '&lt;HUMAN&gt;: What is the helpline number...</td>\n",
       "    </tr>\n",
       "    <tr>\n",
       "      <th>169</th>\n",
       "      <td>{'text': '&lt;HUMAN&gt;: Which is the best mental he...</td>\n",
       "    </tr>\n",
       "    <tr>\n",
       "      <th>170</th>\n",
       "      <td>{'text': '&lt;HUMAN&gt;: Who is the best hypnotherap...</td>\n",
       "    </tr>\n",
       "    <tr>\n",
       "      <th>171</th>\n",
       "      <td>{'text': '&lt;HUMAN&gt;: Who is the best psychiatris...</td>\n",
       "    </tr>\n",
       "  </tbody>\n",
       "</table>\n",
       "<p>172 rows × 1 columns</p>\n",
       "</div>"
      ],
      "text/plain": [
       "                                                 train\n",
       "0    {'text': '<HUMAN>: What is a panic attack?\n",
       "<AS...\n",
       "1    {'text': '<HUMAN>: What are symptoms of panic ...\n",
       "2    {'text': '<HUMAN>: What are the types of Menta...\n",
       "3    {'text': '<HUMAN>: What does mental-illness me...\n",
       "4    {'text': '<HUMAN>: How can you treat mental il...\n",
       "..                                                 ...\n",
       "167  {'text': '<HUMAN>: Who are you?\n",
       "<ASSISTANT>: H...\n",
       "168  {'text': '<HUMAN>: What is the helpline number...\n",
       "169  {'text': '<HUMAN>: Which is the best mental he...\n",
       "170  {'text': '<HUMAN>: Who is the best hypnotherap...\n",
       "171  {'text': '<HUMAN>: Who is the best psychiatris...\n",
       "\n",
       "[172 rows x 1 columns]"
      ]
     },
     "execution_count": 57,
     "metadata": {},
     "output_type": "execute_result"
    }
   ],
   "source": [
    "df4"
   ]
  },
  {
   "cell_type": "code",
   "execution_count": 58,
   "id": "7cda2207",
   "metadata": {},
   "outputs": [
    {
     "data": {
      "text/plain": [
       "{'text': '<HUMAN>: What is a panic attack?\\n<ASSISTANT>: Panic attacks come on suddenly and involve intense and often overwhelming fear. They’re accompanied by very challenging physical symptoms, like a racing heartbeat, shortness of breath, or nausea. Unexpected panic attacks occur without an obvious cause. Expected panic attacks are cued by external stressors, like phobias. Panic attacks can happen to anyone, but having more than one may be a sign of panic disorder, a mental health condition characterized by sudden and repeated panic attacks.'}"
      ]
     },
     "execution_count": 58,
     "metadata": {},
     "output_type": "execute_result"
    }
   ],
   "source": [
    "df4.iloc[0]['train']"
   ]
  },
  {
   "cell_type": "code",
   "execution_count": 61,
   "id": "0a2c855f",
   "metadata": {},
   "outputs": [],
   "source": [
    "def merge_input_output(row):\n",
    "    # Customize the format as needed. Here, we add labels for clarity.\n",
    "    return row['text']"
   ]
  },
  {
   "cell_type": "code",
   "execution_count": 63,
   "id": "349e8d18",
   "metadata": {},
   "outputs": [],
   "source": [
    "df4 = df4['train'].apply(merge_input_output)"
   ]
  },
  {
   "cell_type": "code",
   "execution_count": 64,
   "id": "eb2e5019",
   "metadata": {},
   "outputs": [
    {
     "data": {
      "text/plain": [
       "0      <HUMAN>: What is a panic attack?\\n<ASSISTANT>:...\n",
       "1      <HUMAN>: What are symptoms of panic attack vs....\n",
       "2      <HUMAN>: What are the types of Mental Illness?...\n",
       "3      <HUMAN>: What does mental-illness mean?\\n<ASSI...\n",
       "4      <HUMAN>: How can you treat mental illness?\\n<A...\n",
       "                             ...                        \n",
       "167    <HUMAN>: Who are you?\\n<ASSISTANT>: Hello ther...\n",
       "168    <HUMAN>: What is the helpline number for suici...\n",
       "169    <HUMAN>: Which is the best mental health hospi...\n",
       "170    <HUMAN>: Who is the best hypnotherapist in Lon...\n",
       "171    <HUMAN>: Who is the best psychiatrist in Mumba...\n",
       "Name: train, Length: 172, dtype: object"
      ]
     },
     "execution_count": 64,
     "metadata": {},
     "output_type": "execute_result"
    }
   ],
   "source": [
    "df4"
   ]
  },
  {
   "cell_type": "code",
   "execution_count": 65,
   "id": "2ee6d9e6",
   "metadata": {},
   "outputs": [
    {
     "data": {
      "text/plain": [
       "0       what is a panic attack  panic attacks come on...\n",
       "1       what are symptoms of panic attack vs anxiety ...\n",
       "2       what are the types of mental illness  there a...\n",
       "3       what does mentalillness mean  mental illness ...\n",
       "4       how can you treat mental illness  the treatme...\n",
       "                             ...                        \n",
       "167     who are you  hello there i am your empathetic...\n",
       "168     what is the helpline number for suicide preve...\n",
       "169     which is the best mental health hospital in n...\n",
       "170     who is the best hypnotherapist in london  i u...\n",
       "171     who is the best psychiatrist in mumbai  i und...\n",
       "Name: train, Length: 172, dtype: object"
      ]
     },
     "execution_count": 65,
     "metadata": {},
     "output_type": "execute_result"
    }
   ],
   "source": [
    "df4.apply(clean_text)"
   ]
  },
  {
   "cell_type": "code",
   "execution_count": 66,
   "id": "29cd8c49",
   "metadata": {},
   "outputs": [],
   "source": [
    "with open(output_file, 'a', encoding='utf-8') as f:\n",
    "    for text in df4:\n",
    "        f.write(text + \"\\n\")"
   ]
  },
  {
   "cell_type": "code",
   "execution_count": null,
   "id": "df67fb85",
   "metadata": {},
   "outputs": [],
   "source": []
  }
 ],
 "metadata": {
  "kernelspec": {
   "display_name": "Python 3 (ipykernel)",
   "language": "python",
   "name": "python3"
  },
  "language_info": {
   "codemirror_mode": {
    "name": "ipython",
    "version": 3
   },
   "file_extension": ".py",
   "mimetype": "text/x-python",
   "name": "python",
   "nbconvert_exporter": "python",
   "pygments_lexer": "ipython3",
   "version": "3.11.4"
  }
 },
 "nbformat": 4,
 "nbformat_minor": 5
}
